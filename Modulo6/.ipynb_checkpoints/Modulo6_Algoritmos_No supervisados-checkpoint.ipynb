{
 "cells": [
  {
   "cell_type": "markdown",
   "id": "c883fe24",
   "metadata": {
    "slideshow": {
     "slide_type": "slide"
    }
   },
   "source": [
    "<img src=\"https://raw.githubusercontent.com/pelaokano/inel_ML/main/Modulo4/logo_inel.png\">\n",
    "<h1 align=\"center\">Machine Learning Aplicado a la Ingeniería Eléctrica</h1>\n",
    "\n",
    "<h2 align=\"center\">Modulo 6: Algoritmos Con Entrenamiento No Supervisado</h2>\n",
    "\n",
    "<h3 align=\"center\">Innstructor: Adrian Alarcón Becerra</h3>"
   ]
  },
  {
   "cell_type": "markdown",
   "id": "a38d3d23",
   "metadata": {
    "slideshow": {
     "slide_type": "slide"
    }
   },
   "source": [
    "<img src=\"https://raw.githubusercontent.com/pelaokano/inel_ML/main/Modulo6/imagenes/1.JPG\">"
   ]
  },
  {
   "cell_type": "markdown",
   "id": "971f4de1",
   "metadata": {
    "slideshow": {
     "slide_type": "slide"
    }
   },
   "source": [
    "<img src=\"https://raw.githubusercontent.com/pelaokano/inel_ML/main/Modulo6/imagenes/2.JPG\">"
   ]
  },
  {
   "cell_type": "markdown",
   "id": "0eacf55f",
   "metadata": {
    "slideshow": {
     "slide_type": "slide"
    }
   },
   "source": [
    "<img src=\"https://raw.githubusercontent.com/pelaokano/inel_ML/main/Modulo6/imagenes/3.JPG\">"
   ]
  },
  {
   "cell_type": "markdown",
   "id": "db73ea85",
   "metadata": {
    "slideshow": {
     "slide_type": "slide"
    }
   },
   "source": [
    "<img src=\"https://raw.githubusercontent.com/pelaokano/inel_ML/main/Modulo6/imagenes/4.JPG\">"
   ]
  },
  {
   "cell_type": "markdown",
   "id": "5e069c85",
   "metadata": {
    "slideshow": {
     "slide_type": "slide"
    }
   },
   "source": [
    "<img src=\"https://raw.githubusercontent.com/pelaokano/inel_ML/main/Modulo6/imagenes/5.JPG\">"
   ]
  },
  {
   "cell_type": "markdown",
   "id": "5cb44cf3",
   "metadata": {
    "slideshow": {
     "slide_type": "slide"
    }
   },
   "source": [
    "<img src=\"https://raw.githubusercontent.com/pelaokano/inel_ML/main/Modulo6/imagenes/6.JPG\">"
   ]
  },
  {
   "cell_type": "markdown",
   "id": "93437e07",
   "metadata": {
    "slideshow": {
     "slide_type": "slide"
    }
   },
   "source": [
    "<img src=\"https://raw.githubusercontent.com/pelaokano/inel_ML/main/Modulo6/imagenes/7.JPG\">"
   ]
  },
  {
   "cell_type": "markdown",
   "id": "0698c151",
   "metadata": {
    "slideshow": {
     "slide_type": "slide"
    }
   },
   "source": [
    "<img src=\"https://raw.githubusercontent.com/pelaokano/inel_ML/main/Modulo6/imagenes/8.JPG\">"
   ]
  },
  {
   "cell_type": "markdown",
   "id": "cff93717",
   "metadata": {
    "slideshow": {
     "slide_type": "slide"
    }
   },
   "source": [
    "<img src=\"https://raw.githubusercontent.com/pelaokano/inel_ML/main/Modulo6/imagenes/9.JPG\">"
   ]
  },
  {
   "cell_type": "markdown",
   "id": "aa4787f0",
   "metadata": {
    "slideshow": {
     "slide_type": "slide"
    }
   },
   "source": [
    "<img src=https://upload.wikimedia.org/wikipedia/commons/e/ea/K-means_convergence.gif style=\"width: 500px;\"/>"
   ]
  },
  {
   "cell_type": "markdown",
   "id": "5afa312b",
   "metadata": {
    "slideshow": {
     "slide_type": "slide"
    }
   },
   "source": [
    "<img src=\"https://raw.githubusercontent.com/pelaokano/inel_ML/main/Modulo6/imagenes/10.JPG\">"
   ]
  },
  {
   "cell_type": "markdown",
   "id": "2ca1f31a",
   "metadata": {
    "slideshow": {
     "slide_type": "slide"
    }
   },
   "source": [
    "<img src=\"https://raw.githubusercontent.com/pelaokano/inel_ML/main/Modulo6/imagenes/11.JPG\">"
   ]
  },
  {
   "cell_type": "markdown",
   "id": "82bc658f",
   "metadata": {
    "slideshow": {
     "slide_type": "slide"
    }
   },
   "source": [
    "<img src=\"https://raw.githubusercontent.com/pelaokano/inel_ML/main/Modulo6/imagenes/12.JPG\">"
   ]
  },
  {
   "cell_type": "markdown",
   "id": "cb7c4b6f",
   "metadata": {
    "slideshow": {
     "slide_type": "slide"
    }
   },
   "source": [
    "<img src=\"https://raw.githubusercontent.com/pelaokano/inel_ML/main/Modulo6/imagenes/13.JPG\">"
   ]
  },
  {
   "cell_type": "markdown",
   "id": "a4bfb4a5",
   "metadata": {
    "slideshow": {
     "slide_type": "slide"
    }
   },
   "source": [
    "<img src=\"https://raw.githubusercontent.com/pelaokano/inel_ML/main/Modulo6/imagenes/14.JPG\">"
   ]
  },
  {
   "cell_type": "markdown",
   "id": "54c2656f",
   "metadata": {
    "slideshow": {
     "slide_type": "slide"
    }
   },
   "source": [
    "<img src=\"https://raw.githubusercontent.com/pelaokano/inel_ML/main/Modulo6/imagenes/15.JPG\">"
   ]
  },
  {
   "cell_type": "markdown",
   "id": "ca9730e8",
   "metadata": {
    "slideshow": {
     "slide_type": "slide"
    }
   },
   "source": [
    "<img src=\"https://raw.githubusercontent.com/pelaokano/inel_ML/main/Modulo6/imagenes/16.JPG\">"
   ]
  },
  {
   "cell_type": "markdown",
   "id": "9e32b90d",
   "metadata": {
    "slideshow": {
     "slide_type": "slide"
    }
   },
   "source": [
    "<img src=\"https://raw.githubusercontent.com/pelaokano/inel_ML/main/Modulo6/imagenes/17.JPG\">"
   ]
  },
  {
   "cell_type": "markdown",
   "id": "104e584d",
   "metadata": {
    "slideshow": {
     "slide_type": "slide"
    }
   },
   "source": [
    "<img src=\"https://raw.githubusercontent.com/pelaokano/inel_ML/main/Modulo6/imagenes/18.JPG\">"
   ]
  },
  {
   "cell_type": "markdown",
   "id": "6b164a64",
   "metadata": {
    "slideshow": {
     "slide_type": "slide"
    }
   },
   "source": [
    "<img src=\"https://raw.githubusercontent.com/pelaokano/inel_ML/main/Modulo6/imagenes/19.JPG\">"
   ]
  },
  {
   "cell_type": "markdown",
   "id": "24109df7",
   "metadata": {
    "slideshow": {
     "slide_type": "slide"
    }
   },
   "source": [
    "<img src=\"https://raw.githubusercontent.com/pelaokano/inel_ML/main/Modulo6/imagenes/20.JPG\">"
   ]
  },
  {
   "cell_type": "markdown",
   "id": "ec30fcff",
   "metadata": {
    "slideshow": {
     "slide_type": "slide"
    }
   },
   "source": [
    "<img src=\"https://raw.githubusercontent.com/pelaokano/inel_ML/main/Modulo6/imagenes/21.JPG\">"
   ]
  },
  {
   "cell_type": "markdown",
   "id": "2d772104",
   "metadata": {
    "slideshow": {
     "slide_type": "slide"
    }
   },
   "source": [
    "<img src=\"https://raw.githubusercontent.com/pelaokano/inel_ML/main/Modulo6/imagenes/22.JPG\">"
   ]
  },
  {
   "cell_type": "markdown",
   "id": "8cc2b2c4",
   "metadata": {
    "slideshow": {
     "slide_type": "slide"
    }
   },
   "source": [
    "<img src=\"https://raw.githubusercontent.com/pelaokano/inel_ML/main/Modulo6/imagenes/23.JPG\">"
   ]
  },
  {
   "cell_type": "markdown",
   "id": "eb1913c5",
   "metadata": {
    "slideshow": {
     "slide_type": "slide"
    }
   },
   "source": [
    "<img src=\"https://raw.githubusercontent.com/pelaokano/inel_ML/main/Modulo6/imagenes/24.JPG\">"
   ]
  },
  {
   "cell_type": "markdown",
   "id": "4ce0891a",
   "metadata": {
    "slideshow": {
     "slide_type": "slide"
    }
   },
   "source": [
    "<img src=\"https://raw.githubusercontent.com/pelaokano/inel_ML/main/Modulo6/imagenes/25.JPG\">"
   ]
  },
  {
   "cell_type": "markdown",
   "id": "4eb95fda",
   "metadata": {
    "slideshow": {
     "slide_type": "slide"
    }
   },
   "source": [
    "<img src=\"https://raw.githubusercontent.com/pelaokano/inel_ML/main/Modulo6/imagenes/26.JPG\">"
   ]
  },
  {
   "cell_type": "markdown",
   "id": "ab33deba",
   "metadata": {
    "slideshow": {
     "slide_type": "slide"
    }
   },
   "source": [
    "<img src=\"https://raw.githubusercontent.com/pelaokano/inel_ML/main/Modulo6/imagenes/27.JPG\">"
   ]
  },
  {
   "cell_type": "markdown",
   "id": "172ce138",
   "metadata": {
    "slideshow": {
     "slide_type": "slide"
    }
   },
   "source": [
    "<img src=\"https://raw.githubusercontent.com/pelaokano/inel_ML/main/Modulo6/imagenes/28.JPG\">"
   ]
  },
  {
   "cell_type": "markdown",
   "id": "f0214324",
   "metadata": {
    "slideshow": {
     "slide_type": "slide"
    }
   },
   "source": [
    "<img src=\"https://raw.githubusercontent.com/pelaokano/inel_ML/main/Modulo6/imagenes/29.JPG\">"
   ]
  },
  {
   "cell_type": "code",
   "execution_count": null,
   "id": "486206b3",
   "metadata": {},
   "outputs": [],
   "source": []
  }
 ],
 "metadata": {
  "celltoolbar": "Slideshow",
  "kernelspec": {
   "display_name": "Python 3 (ipykernel)",
   "language": "python",
   "name": "python3"
  },
  "language_info": {
   "codemirror_mode": {
    "name": "ipython",
    "version": 3
   },
   "file_extension": ".py",
   "mimetype": "text/x-python",
   "name": "python",
   "nbconvert_exporter": "python",
   "pygments_lexer": "ipython3",
   "version": "3.9.12"
  }
 },
 "nbformat": 4,
 "nbformat_minor": 5
}
