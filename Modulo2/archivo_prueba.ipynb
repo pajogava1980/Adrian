{
 "cells": [
  {
   "cell_type": "code",
   "execution_count": 13,
   "id": "530137f7",
   "metadata": {},
   "outputs": [
    {
     "name": "stdout",
     "output_type": "stream",
     "text": [
      "hola mundo\n"
     ]
    }
   ],
   "source": [
    "print('hola mundo')"
   ]
  },
  {
   "cell_type": "code",
   "execution_count": 14,
   "id": "9add8c71",
   "metadata": {},
   "outputs": [],
   "source": [
    "var=14"
   ]
  },
  {
   "cell_type": "code",
   "execution_count": 15,
   "id": "1dc0f253",
   "metadata": {},
   "outputs": [
    {
     "name": "stdout",
     "output_type": "stream",
     "text": [
      "14\n"
     ]
    }
   ],
   "source": [
    "print(var)"
   ]
  },
  {
   "cell_type": "code",
   "execution_count": 5,
   "id": "4cda64a3",
   "metadata": {},
   "outputs": [],
   "source": [
    "#shift + enter: ejecuta contenido de la celda\n",
    "#dd: borro celda\n",
    "#b: agrega una celda"
   ]
  },
  {
   "cell_type": "code",
   "execution_count": 6,
   "id": "e20ca3bf",
   "metadata": {},
   "outputs": [
    {
     "name": "stdout",
     "output_type": "stream",
     "text": [
      "comando de prueba\n"
     ]
    }
   ],
   "source": [
    "#Comentarios\n",
    "print('comando de prueba')#este comando imprime un string"
   ]
  },
  {
   "cell_type": "markdown",
   "id": "c0e96fb2",
   "metadata": {},
   "source": [
    "hola como estan"
   ]
  },
  {
   "cell_type": "markdown",
   "id": "eca5226f",
   "metadata": {},
   "source": [
    "<h2>Hola mundo desde el curso de inel de ML</h2>"
   ]
  },
  {
   "cell_type": "markdown",
   "id": "832b6840",
   "metadata": {},
   "source": [
    "<img src=\"logo_inel.png\">"
   ]
  },
  {
   "cell_type": "markdown",
   "id": "06a1d0dd",
   "metadata": {},
   "source": [
    "<h1>este es un titulo 1</h1>\n",
    "<h3>este es un titulo 2</h3>\n",
    "<p>Este es un <b>texto</b> de prueba</p>\n"
   ]
  },
  {
   "cell_type": "markdown",
   "id": "997d6329",
   "metadata": {},
   "source": [
    "# Titulo1\n",
    "## Titulo 2\n",
    "### titulo3\n",
    "#### titulo 4\n",
    "gagagagagaga"
   ]
  },
  {
   "cell_type": "code",
   "execution_count": null,
   "id": "b3ed8905",
   "metadata": {},
   "outputs": [],
   "source": []
  }
 ],
 "metadata": {
  "kernelspec": {
   "display_name": "Python 3 (ipykernel)",
   "language": "python",
   "name": "python3"
  },
  "language_info": {
   "codemirror_mode": {
    "name": "ipython",
    "version": 3
   },
   "file_extension": ".py",
   "mimetype": "text/x-python",
   "name": "python",
   "nbconvert_exporter": "python",
   "pygments_lexer": "ipython3",
   "version": "3.9.12"
  }
 },
 "nbformat": 4,
 "nbformat_minor": 5
}
