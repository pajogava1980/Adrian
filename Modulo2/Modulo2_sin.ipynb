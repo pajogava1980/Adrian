{
 "cells": [
  {
   "cell_type": "markdown",
   "metadata": {},
   "source": [
    "<img src=\"logo_inel.png\">"
   ]
  },
  {
   "cell_type": "markdown",
   "metadata": {},
   "source": [
    "<h2 align=\"center\">Machine Learning con Python</h2>\n",
    "\n",
    "<h3 align=\"center\">Instructor: Adrián Alarcón B</h3>"
   ]
  },
  {
   "cell_type": "markdown",
   "metadata": {},
   "source": [
    "# Modulo 2 - Introducción a Python para Ciencia de Datos y ML"
   ]
  },
  {
   "cell_type": "markdown",
   "metadata": {},
   "source": [
    "### 2.1 Lógica del valor de los datos para la toma de decisiones"
   ]
  },
  {
   "cell_type": "markdown",
   "metadata": {},
   "source": [
    "La lógica detrás del valor de los datos para la toma de decisiones se basa en el hecho de que los datos pueden proporcionar información precisa y relevante que permite a las organizaciones tomar decisiones más informadas y acertadas. Los datos son la materia prima que permite obtener información, la cual a su vez permite a los gerentes y líderes empresariales identificar oportunidades y desafíos, detectar patrones y tendencias, y hacer predicciones.\n",
    "\n",
    "La lógica detrás del valor de los datos para la toma de decisiones radica en su capacidad para proporcionar información precisa, relevante y actualizada que permite a las empresas tomar decisiones más informadas y estratégicas, adaptarse a los cambios en el mercado y las tendencias del consumidor, mejorar la eficiencia y reducir costos.\n",
    "ChatGPT Mar 23 Version."
   ]
  },
  {
   "cell_type": "markdown",
   "metadata": {},
   "source": [
    "### 2.2 Fundamentos estadísticos y 2.6 Conceptos de estadística para ML"
   ]
  },
  {
   "cell_type": "code",
   "execution_count": 45,
   "metadata": {},
   "outputs": [],
   "source": [
    "import pandas as pd\n",
    "import matplotlib.pyplot as plt\n",
    "import seaborn as sns"
   ]
  },
  {
   "cell_type": "code",
   "execution_count": 11,
   "metadata": {},
   "outputs": [],
   "source": [
    "df=pd.read_csv('titanic_train.csv')"
   ]
  },
  {
   "cell_type": "code",
   "execution_count": 35,
   "metadata": {},
   "outputs": [],
   "source": [
    "#pd.read_csv\n",
    "#pd.read_excel\n",
    "#pd.read_json\n",
    "#pd.read_html"
   ]
  },
  {
   "cell_type": "code",
   "execution_count": null,
   "metadata": {},
   "outputs": [],
   "source": []
  },
  {
   "cell_type": "code",
   "execution_count": null,
   "metadata": {},
   "outputs": [],
   "source": []
  },
  {
   "cell_type": "markdown",
   "metadata": {},
   "source": [
    "#### Descripción campos dataset\n",
    "\n",
    "<ul>\n",
    "<li>survival - Survival (0 = No; 1 = Yes)</li>\n",
    "<li>class - Passenger Class (1 = 1st; 2 = 2nd; 3 = 3rd)</li>\n",
    "<li>name - Name</li>\n",
    "<li>sex - Sex</li>\n",
    "<li>age - Age</li>\n",
    "<li>sibsp - Number of Siblings/Spouses Aboard</li>\n",
    "<li>parch - Number of Parents/Children Aboard</li>\n",
    "<li>ticket - Ticket Number</li>\n",
    "<li>fare - Passenger Fare</li>\n",
    "<li>cabin - Cabin</li>\n",
    "<li>embarked - Port of Embarkation (C = Cherbourg; Q = Queenstown; S = Southampton)</li>\n",
    "<li>boat - Lifeboat (if survived)</li>\n",
    "<li>body - Body number (if did not survive and body was recovered)</li>\n",
    "</ul> \n",
    "\n",
    "\n",
    "\n"
   ]
  },
  {
   "cell_type": "code",
   "execution_count": null,
   "metadata": {},
   "outputs": [],
   "source": []
  },
  {
   "cell_type": "code",
   "execution_count": null,
   "metadata": {},
   "outputs": [],
   "source": []
  },
  {
   "cell_type": "code",
   "execution_count": null,
   "metadata": {},
   "outputs": [],
   "source": []
  },
  {
   "cell_type": "code",
   "execution_count": null,
   "metadata": {},
   "outputs": [],
   "source": []
  },
  {
   "cell_type": "markdown",
   "metadata": {},
   "source": [
    "### 2.3 Alineamiento de los datos a la formulación del problema"
   ]
  },
  {
   "cell_type": "markdown",
   "metadata": {},
   "source": [
    "El primer paso para el aprendizaje automático consiste en decidir qué desea predecir, que se conoce como la etiqueta o respuesta de destino. Imagine una situación en la que desea fabricar productos, pero la decisión de fabricación de cada producto depende de su número de ventas potenciales. En este caso, es recomendable predecir cuántas veces cada producto se comprará (predecir el número de ventas). Existen varias maneras de definir este problema mediante la utilización del aprendizaje automático. Elegir cómo definir el problema depende de su caso de uso o necesidad empresarial."
   ]
  },
  {
   "cell_type": "markdown",
   "metadata": {},
   "source": [
    "### 2.4 Fundamentos de análisis de datos para el aprendizaje de máquina y 2.5 Atributos y etiquetas"
   ]
  },
  {
   "cell_type": "code",
   "execution_count": null,
   "metadata": {},
   "outputs": [],
   "source": []
  },
  {
   "cell_type": "code",
   "execution_count": null,
   "metadata": {},
   "outputs": [],
   "source": []
  },
  {
   "cell_type": "code",
   "execution_count": null,
   "metadata": {},
   "outputs": [],
   "source": []
  },
  {
   "cell_type": "markdown",
   "metadata": {},
   "source": [
    "### 2.7 Calidad de datos"
   ]
  },
  {
   "cell_type": "code",
   "execution_count": null,
   "metadata": {},
   "outputs": [],
   "source": []
  },
  {
   "cell_type": "code",
   "execution_count": null,
   "metadata": {},
   "outputs": [],
   "source": []
  },
  {
   "cell_type": "code",
   "execution_count": null,
   "metadata": {},
   "outputs": [],
   "source": []
  },
  {
   "cell_type": "markdown",
   "metadata": {},
   "source": [
    "### 2.8 Análisis exploratorio de datos y 2.9 Preparación de la data para el modelamiento"
   ]
  },
  {
   "cell_type": "code",
   "execution_count": null,
   "metadata": {},
   "outputs": [],
   "source": []
  },
  {
   "cell_type": "code",
   "execution_count": null,
   "metadata": {},
   "outputs": [],
   "source": []
  },
  {
   "cell_type": "code",
   "execution_count": null,
   "metadata": {},
   "outputs": [],
   "source": []
  },
  {
   "cell_type": "markdown",
   "metadata": {},
   "source": [
    "### 2.10 Criterios de selección de modelos"
   ]
  },
  {
   "cell_type": "markdown",
   "metadata": {},
   "source": [
    "<ul>\n",
    "<li>1. Rendimiento del modelo.</li>\n",
    "<li>2. Explicabilidad de los resultados.</li>\n",
    "<li>3. Complejidad del modelo.</li>\n",
    "<li>4. Tamaño del conjunto de los datos.</li>\n",
    "<li>5. Dimensionalidad. </li>\n",
    "<li>5. Tiempo de entrenamiento y costo.</li>\n",
    "<li>6. Tiempo de inferencia.</li>\n",
    "</ul>"
   ]
  },
  {
   "cell_type": "markdown",
   "metadata": {},
   "source": [
    "### 2.11 Criterios para la evaluación de modelos"
   ]
  },
  {
   "cell_type": "markdown",
   "metadata": {},
   "source": [
    "<h2>Matriz de confusión</h2>\n",
    "<img src=\"ma_conf.png\">"
   ]
  },
  {
   "cell_type": "markdown",
   "metadata": {},
   "source": [
    "#### Exactitud \n",
    "\n",
    "La exactitud es la fracción de predicciones que el modelo clasifica correctamente.\n",
    "\n",
    "Exactitud = (VP + VN) / N\n",
    "\n",
    "Siendo N el número total de predicciones.\n",
    "\n",
    "La gran limitación es que cuando las clases a categorizar están muy desequilibradas este método resulta poco útil. \n",
    "\n",
    "#### Precisión \n",
    "\n",
    "La precisión es el ratio o porcentaje de clasificaciones correctas de nuestro modelo clasificador dentro de las predicciones positivas. \n",
    "\n",
    "Precisión = VP / (VP + FP)\n",
    "\n",
    "#### Sensibilidad \n",
    "\n",
    "La sensibilidad es la proporción de pacientes que se identificaron correctamente por tener una condición, verdadero positivo, sobre el número total de pacientes que realmente presentan esa condición.\n",
    "\n",
    "Sensibilidad = VP / (VP + FN)\n",
    "\n",
    "#### Especificidad\n",
    "\n",
    "La especificidad es la proporción de pacientes que se identificaron correctamente por no tener una condición, verdadero negativo, sobre el número total de pacientes que realmente no presentan esa condición.\n",
    "\n",
    "Especificidad = VN / (VN + FP)"
   ]
  }
 ],
 "metadata": {
  "kernelspec": {
   "display_name": "Python 3 (ipykernel)",
   "language": "python",
   "name": "python3"
  },
  "language_info": {
   "codemirror_mode": {
    "name": "ipython",
    "version": 3
   },
   "file_extension": ".py",
   "mimetype": "text/x-python",
   "name": "python",
   "nbconvert_exporter": "python",
   "pygments_lexer": "ipython3",
   "version": "3.9.12"
  }
 },
 "nbformat": 4,
 "nbformat_minor": 1
}
